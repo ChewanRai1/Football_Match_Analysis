{
 "cells": [
  {
   "cell_type": "code",
   "execution_count": 1,
   "metadata": {},
   "outputs": [
    {
     "name": "stdout",
     "output_type": "stream",
     "text": [
      "Requirement already satisfied: ultralytics in /Users/chewanrai/Documents/6th_sem/Thesis/Project/footballmatch_analysis/football_analysis-main/venv/lib/python3.13/site-packages (8.3.78)\n",
      "Requirement already satisfied: numpy<=2.1.1,>=1.23.0 in /Users/chewanrai/Documents/6th_sem/Thesis/Project/footballmatch_analysis/football_analysis-main/venv/lib/python3.13/site-packages (from ultralytics) (2.1.1)\n",
      "Requirement already satisfied: matplotlib>=3.3.0 in /Users/chewanrai/Documents/6th_sem/Thesis/Project/footballmatch_analysis/football_analysis-main/venv/lib/python3.13/site-packages (from ultralytics) (3.10.0)\n",
      "Requirement already satisfied: opencv-python>=4.6.0 in /Users/chewanrai/Documents/6th_sem/Thesis/Project/footballmatch_analysis/football_analysis-main/venv/lib/python3.13/site-packages (from ultralytics) (4.11.0.86)\n",
      "Requirement already satisfied: pillow>=7.1.2 in /Users/chewanrai/Documents/6th_sem/Thesis/Project/footballmatch_analysis/football_analysis-main/venv/lib/python3.13/site-packages (from ultralytics) (11.1.0)\n",
      "Requirement already satisfied: pyyaml>=5.3.1 in /Users/chewanrai/Documents/6th_sem/Thesis/Project/footballmatch_analysis/football_analysis-main/venv/lib/python3.13/site-packages (from ultralytics) (6.0.2)\n",
      "Requirement already satisfied: requests>=2.23.0 in /Users/chewanrai/Documents/6th_sem/Thesis/Project/footballmatch_analysis/football_analysis-main/venv/lib/python3.13/site-packages (from ultralytics) (2.32.3)\n",
      "Requirement already satisfied: scipy>=1.4.1 in /Users/chewanrai/Documents/6th_sem/Thesis/Project/footballmatch_analysis/football_analysis-main/venv/lib/python3.13/site-packages (from ultralytics) (1.15.2)\n",
      "Requirement already satisfied: torch>=1.8.0 in /Users/chewanrai/Documents/6th_sem/Thesis/Project/footballmatch_analysis/football_analysis-main/venv/lib/python3.13/site-packages (from ultralytics) (2.6.0)\n",
      "Requirement already satisfied: torchvision>=0.9.0 in /Users/chewanrai/Documents/6th_sem/Thesis/Project/footballmatch_analysis/football_analysis-main/venv/lib/python3.13/site-packages (from ultralytics) (0.21.0)\n",
      "Requirement already satisfied: tqdm>=4.64.0 in /Users/chewanrai/Documents/6th_sem/Thesis/Project/footballmatch_analysis/football_analysis-main/venv/lib/python3.13/site-packages (from ultralytics) (4.67.1)\n",
      "Requirement already satisfied: psutil in /Users/chewanrai/Documents/6th_sem/Thesis/Project/footballmatch_analysis/football_analysis-main/venv/lib/python3.13/site-packages (from ultralytics) (7.0.0)\n",
      "Requirement already satisfied: py-cpuinfo in /Users/chewanrai/Documents/6th_sem/Thesis/Project/footballmatch_analysis/football_analysis-main/venv/lib/python3.13/site-packages (from ultralytics) (9.0.0)\n",
      "Requirement already satisfied: pandas>=1.1.4 in /Users/chewanrai/Documents/6th_sem/Thesis/Project/footballmatch_analysis/football_analysis-main/venv/lib/python3.13/site-packages (from ultralytics) (2.2.3)\n",
      "Requirement already satisfied: seaborn>=0.11.0 in /Users/chewanrai/Documents/6th_sem/Thesis/Project/footballmatch_analysis/football_analysis-main/venv/lib/python3.13/site-packages (from ultralytics) (0.13.2)\n",
      "Requirement already satisfied: ultralytics-thop>=2.0.0 in /Users/chewanrai/Documents/6th_sem/Thesis/Project/footballmatch_analysis/football_analysis-main/venv/lib/python3.13/site-packages (from ultralytics) (2.0.14)\n",
      "Requirement already satisfied: contourpy>=1.0.1 in /Users/chewanrai/Documents/6th_sem/Thesis/Project/footballmatch_analysis/football_analysis-main/venv/lib/python3.13/site-packages (from matplotlib>=3.3.0->ultralytics) (1.3.1)\n",
      "Requirement already satisfied: cycler>=0.10 in /Users/chewanrai/Documents/6th_sem/Thesis/Project/footballmatch_analysis/football_analysis-main/venv/lib/python3.13/site-packages (from matplotlib>=3.3.0->ultralytics) (0.12.1)\n",
      "Requirement already satisfied: fonttools>=4.22.0 in /Users/chewanrai/Documents/6th_sem/Thesis/Project/footballmatch_analysis/football_analysis-main/venv/lib/python3.13/site-packages (from matplotlib>=3.3.0->ultralytics) (4.56.0)\n",
      "Requirement already satisfied: kiwisolver>=1.3.1 in /Users/chewanrai/Documents/6th_sem/Thesis/Project/footballmatch_analysis/football_analysis-main/venv/lib/python3.13/site-packages (from matplotlib>=3.3.0->ultralytics) (1.4.8)\n",
      "Requirement already satisfied: packaging>=20.0 in /Users/chewanrai/Documents/6th_sem/Thesis/Project/footballmatch_analysis/football_analysis-main/venv/lib/python3.13/site-packages (from matplotlib>=3.3.0->ultralytics) (24.2)\n",
      "Requirement already satisfied: pyparsing>=2.3.1 in /Users/chewanrai/Documents/6th_sem/Thesis/Project/footballmatch_analysis/football_analysis-main/venv/lib/python3.13/site-packages (from matplotlib>=3.3.0->ultralytics) (3.2.1)\n",
      "Requirement already satisfied: python-dateutil>=2.7 in /Users/chewanrai/Documents/6th_sem/Thesis/Project/footballmatch_analysis/football_analysis-main/venv/lib/python3.13/site-packages (from matplotlib>=3.3.0->ultralytics) (2.9.0.post0)\n",
      "Requirement already satisfied: pytz>=2020.1 in /Users/chewanrai/Documents/6th_sem/Thesis/Project/footballmatch_analysis/football_analysis-main/venv/lib/python3.13/site-packages (from pandas>=1.1.4->ultralytics) (2025.1)\n",
      "Requirement already satisfied: tzdata>=2022.7 in /Users/chewanrai/Documents/6th_sem/Thesis/Project/footballmatch_analysis/football_analysis-main/venv/lib/python3.13/site-packages (from pandas>=1.1.4->ultralytics) (2025.1)\n",
      "Requirement already satisfied: charset-normalizer<4,>=2 in /Users/chewanrai/Documents/6th_sem/Thesis/Project/footballmatch_analysis/football_analysis-main/venv/lib/python3.13/site-packages (from requests>=2.23.0->ultralytics) (3.4.1)\n",
      "Requirement already satisfied: idna<4,>=2.5 in /Users/chewanrai/Documents/6th_sem/Thesis/Project/footballmatch_analysis/football_analysis-main/venv/lib/python3.13/site-packages (from requests>=2.23.0->ultralytics) (3.10)\n",
      "Requirement already satisfied: urllib3<3,>=1.21.1 in /Users/chewanrai/Documents/6th_sem/Thesis/Project/footballmatch_analysis/football_analysis-main/venv/lib/python3.13/site-packages (from requests>=2.23.0->ultralytics) (2.3.0)\n",
      "Requirement already satisfied: certifi>=2017.4.17 in /Users/chewanrai/Documents/6th_sem/Thesis/Project/footballmatch_analysis/football_analysis-main/venv/lib/python3.13/site-packages (from requests>=2.23.0->ultralytics) (2025.1.31)\n",
      "Requirement already satisfied: filelock in /Users/chewanrai/Documents/6th_sem/Thesis/Project/footballmatch_analysis/football_analysis-main/venv/lib/python3.13/site-packages (from torch>=1.8.0->ultralytics) (3.17.0)\n",
      "Requirement already satisfied: typing-extensions>=4.10.0 in /Users/chewanrai/Documents/6th_sem/Thesis/Project/footballmatch_analysis/football_analysis-main/venv/lib/python3.13/site-packages (from torch>=1.8.0->ultralytics) (4.12.2)\n",
      "Requirement already satisfied: networkx in /Users/chewanrai/Documents/6th_sem/Thesis/Project/footballmatch_analysis/football_analysis-main/venv/lib/python3.13/site-packages (from torch>=1.8.0->ultralytics) (3.4.2)\n",
      "Requirement already satisfied: jinja2 in /Users/chewanrai/Documents/6th_sem/Thesis/Project/footballmatch_analysis/football_analysis-main/venv/lib/python3.13/site-packages (from torch>=1.8.0->ultralytics) (3.1.5)\n",
      "Requirement already satisfied: fsspec in /Users/chewanrai/Documents/6th_sem/Thesis/Project/footballmatch_analysis/football_analysis-main/venv/lib/python3.13/site-packages (from torch>=1.8.0->ultralytics) (2025.2.0)\n",
      "Requirement already satisfied: setuptools in /Users/chewanrai/Documents/6th_sem/Thesis/Project/footballmatch_analysis/football_analysis-main/venv/lib/python3.13/site-packages (from torch>=1.8.0->ultralytics) (75.8.0)\n",
      "Requirement already satisfied: sympy==1.13.1 in /Users/chewanrai/Documents/6th_sem/Thesis/Project/footballmatch_analysis/football_analysis-main/venv/lib/python3.13/site-packages (from torch>=1.8.0->ultralytics) (1.13.1)\n",
      "Requirement already satisfied: mpmath<1.4,>=1.1.0 in /Users/chewanrai/Documents/6th_sem/Thesis/Project/footballmatch_analysis/football_analysis-main/venv/lib/python3.13/site-packages (from sympy==1.13.1->torch>=1.8.0->ultralytics) (1.3.0)\n",
      "Requirement already satisfied: six>=1.5 in /Users/chewanrai/Documents/6th_sem/Thesis/Project/footballmatch_analysis/football_analysis-main/venv/lib/python3.13/site-packages (from python-dateutil>=2.7->matplotlib>=3.3.0->ultralytics) (1.17.0)\n",
      "Requirement already satisfied: MarkupSafe>=2.0 in /Users/chewanrai/Documents/6th_sem/Thesis/Project/footballmatch_analysis/football_analysis-main/venv/lib/python3.13/site-packages (from jinja2->torch>=1.8.0->ultralytics) (3.0.2)\n",
      "\n",
      "\u001b[1m[\u001b[0m\u001b[34;49mnotice\u001b[0m\u001b[1;39;49m]\u001b[0m\u001b[39;49m A new release of pip is available: \u001b[0m\u001b[31;49m24.3.1\u001b[0m\u001b[39;49m -> \u001b[0m\u001b[32;49m25.0.1\u001b[0m\n",
      "\u001b[1m[\u001b[0m\u001b[34;49mnotice\u001b[0m\u001b[1;39;49m]\u001b[0m\u001b[39;49m To update, run: \u001b[0m\u001b[32;49mpip install --upgrade pip\u001b[0m\n",
      "Collecting roboflow\n",
      "  Downloading roboflow-1.1.54-py3-none-any.whl.metadata (9.7 kB)\n",
      "Requirement already satisfied: certifi in /Users/chewanrai/Documents/6th_sem/Thesis/Project/footballmatch_analysis/football_analysis-main/venv/lib/python3.13/site-packages (from roboflow) (2025.1.31)\n",
      "Collecting idna==3.7 (from roboflow)\n",
      "  Using cached idna-3.7-py3-none-any.whl.metadata (9.9 kB)\n",
      "Requirement already satisfied: cycler in /Users/chewanrai/Documents/6th_sem/Thesis/Project/footballmatch_analysis/football_analysis-main/venv/lib/python3.13/site-packages (from roboflow) (0.12.1)\n",
      "Requirement already satisfied: kiwisolver>=1.3.1 in /Users/chewanrai/Documents/6th_sem/Thesis/Project/footballmatch_analysis/football_analysis-main/venv/lib/python3.13/site-packages (from roboflow) (1.4.8)\n",
      "Requirement already satisfied: matplotlib in /Users/chewanrai/Documents/6th_sem/Thesis/Project/footballmatch_analysis/football_analysis-main/venv/lib/python3.13/site-packages (from roboflow) (3.10.0)\n",
      "Requirement already satisfied: numpy>=1.18.5 in /Users/chewanrai/Documents/6th_sem/Thesis/Project/footballmatch_analysis/football_analysis-main/venv/lib/python3.13/site-packages (from roboflow) (2.1.1)\n",
      "Collecting opencv-python-headless==4.10.0.84 (from roboflow)\n",
      "  Using cached opencv_python_headless-4.10.0.84-cp37-abi3-macosx_11_0_arm64.whl.metadata (20 kB)\n",
      "Requirement already satisfied: Pillow>=7.1.2 in /Users/chewanrai/Documents/6th_sem/Thesis/Project/footballmatch_analysis/football_analysis-main/venv/lib/python3.13/site-packages (from roboflow) (11.1.0)\n",
      "Requirement already satisfied: python-dateutil in /Users/chewanrai/Documents/6th_sem/Thesis/Project/footballmatch_analysis/football_analysis-main/venv/lib/python3.13/site-packages (from roboflow) (2.9.0.post0)\n",
      "Collecting python-dotenv (from roboflow)\n",
      "  Using cached python_dotenv-1.0.1-py3-none-any.whl.metadata (23 kB)\n",
      "Requirement already satisfied: requests in /Users/chewanrai/Documents/6th_sem/Thesis/Project/footballmatch_analysis/football_analysis-main/venv/lib/python3.13/site-packages (from roboflow) (2.32.3)\n",
      "Requirement already satisfied: six in /Users/chewanrai/Documents/6th_sem/Thesis/Project/footballmatch_analysis/football_analysis-main/venv/lib/python3.13/site-packages (from roboflow) (1.17.0)\n",
      "Requirement already satisfied: urllib3>=1.26.6 in /Users/chewanrai/Documents/6th_sem/Thesis/Project/footballmatch_analysis/football_analysis-main/venv/lib/python3.13/site-packages (from roboflow) (2.3.0)\n",
      "Requirement already satisfied: tqdm>=4.41.0 in /Users/chewanrai/Documents/6th_sem/Thesis/Project/footballmatch_analysis/football_analysis-main/venv/lib/python3.13/site-packages (from roboflow) (4.67.1)\n",
      "Requirement already satisfied: PyYAML>=5.3.1 in /Users/chewanrai/Documents/6th_sem/Thesis/Project/footballmatch_analysis/football_analysis-main/venv/lib/python3.13/site-packages (from roboflow) (6.0.2)\n",
      "Collecting requests-toolbelt (from roboflow)\n",
      "  Using cached requests_toolbelt-1.0.0-py2.py3-none-any.whl.metadata (14 kB)\n",
      "Collecting filetype (from roboflow)\n",
      "  Using cached filetype-1.2.0-py2.py3-none-any.whl.metadata (6.5 kB)\n",
      "Requirement already satisfied: contourpy>=1.0.1 in /Users/chewanrai/Documents/6th_sem/Thesis/Project/footballmatch_analysis/football_analysis-main/venv/lib/python3.13/site-packages (from matplotlib->roboflow) (1.3.1)\n",
      "Requirement already satisfied: fonttools>=4.22.0 in /Users/chewanrai/Documents/6th_sem/Thesis/Project/footballmatch_analysis/football_analysis-main/venv/lib/python3.13/site-packages (from matplotlib->roboflow) (4.56.0)\n",
      "Requirement already satisfied: packaging>=20.0 in /Users/chewanrai/Documents/6th_sem/Thesis/Project/footballmatch_analysis/football_analysis-main/venv/lib/python3.13/site-packages (from matplotlib->roboflow) (24.2)\n",
      "Requirement already satisfied: pyparsing>=2.3.1 in /Users/chewanrai/Documents/6th_sem/Thesis/Project/footballmatch_analysis/football_analysis-main/venv/lib/python3.13/site-packages (from matplotlib->roboflow) (3.2.1)\n",
      "Requirement already satisfied: charset-normalizer<4,>=2 in /Users/chewanrai/Documents/6th_sem/Thesis/Project/footballmatch_analysis/football_analysis-main/venv/lib/python3.13/site-packages (from requests->roboflow) (3.4.1)\n",
      "Downloading roboflow-1.1.54-py3-none-any.whl (83 kB)\n",
      "Using cached idna-3.7-py3-none-any.whl (66 kB)\n",
      "Using cached opencv_python_headless-4.10.0.84-cp37-abi3-macosx_11_0_arm64.whl (54.8 MB)\n",
      "Using cached filetype-1.2.0-py2.py3-none-any.whl (19 kB)\n",
      "Using cached python_dotenv-1.0.1-py3-none-any.whl (19 kB)\n",
      "Using cached requests_toolbelt-1.0.0-py2.py3-none-any.whl (54 kB)\n",
      "Installing collected packages: filetype, python-dotenv, opencv-python-headless, idna, requests-toolbelt, roboflow\n",
      "  Attempting uninstall: idna\n",
      "    Found existing installation: idna 3.10\n",
      "    Uninstalling idna-3.10:\n",
      "      Successfully uninstalled idna-3.10\n",
      "Successfully installed filetype-1.2.0 idna-3.7 opencv-python-headless-4.10.0.84 python-dotenv-1.0.1 requests-toolbelt-1.0.0 roboflow-1.1.54\n",
      "\n",
      "\u001b[1m[\u001b[0m\u001b[34;49mnotice\u001b[0m\u001b[1;39;49m]\u001b[0m\u001b[39;49m A new release of pip is available: \u001b[0m\u001b[31;49m24.3.1\u001b[0m\u001b[39;49m -> \u001b[0m\u001b[32;49m25.0.1\u001b[0m\n",
      "\u001b[1m[\u001b[0m\u001b[34;49mnotice\u001b[0m\u001b[1;39;49m]\u001b[0m\u001b[39;49m To update, run: \u001b[0m\u001b[32;49mpip install --upgrade pip\u001b[0m\n"
     ]
    }
   ],
   "source": [
    "!pip install ultralytics\n",
    "!pip install roboflow"
   ]
  },
  {
   "cell_type": "code",
   "execution_count": null,
   "metadata": {},
   "outputs": [],
   "source": []
  },
  {
   "cell_type": "markdown",
   "metadata": {},
   "source": [
    "# Get Dataset"
   ]
  },
  {
   "cell_type": "code",
   "execution_count": 2,
   "metadata": {},
   "outputs": [
    {
     "name": "stdout",
     "output_type": "stream",
     "text": [
      "loading Roboflow workspace...\n",
      "loading Roboflow project...\n"
     ]
    },
    {
     "name": "stderr",
     "output_type": "stream",
     "text": [
      "Downloading Dataset Version Zip in football-players-detection-1 to yolov5pytorch:: 100%|██████████| 148663/148663 [00:12<00:00, 11664.06it/s]"
     ]
    },
    {
     "name": "stdout",
     "output_type": "stream",
     "text": [
      "\n"
     ]
    },
    {
     "name": "stderr",
     "output_type": "stream",
     "text": [
      "\n",
      "Extracting Dataset Version Zip to football-players-detection-1 in yolov5pytorch:: 100%|██████████| 1338/1338 [00:01<00:00, 1098.62it/s]\n"
     ]
    }
   ],
   "source": [
    "\n",
    "\n",
    "from roboflow import Roboflow\n",
    "rf = Roboflow(api_key=\"ZEAcFQIVtB3LIyyFKguq\")\n",
    "project = rf.workspace(\"roboflow-jvuqo\").project(\"football-players-detection-3zvbc\")\n",
    "version = project.version(1)\n",
    "dataset = version.download(\"yolov5\")\n",
    "                \n"
   ]
  },
  {
   "cell_type": "code",
   "execution_count": 3,
   "metadata": {},
   "outputs": [
    {
     "data": {
      "text/plain": [
       "'/Users/chewanrai/Documents/6th_sem/Thesis/Project/footballmatch_analysis/football_analysis-main/training/football-players-detection-1'"
      ]
     },
     "execution_count": 3,
     "metadata": {},
     "output_type": "execute_result"
    }
   ],
   "source": [
    "dataset.location"
   ]
  },
  {
   "cell_type": "code",
   "execution_count": 4,
   "metadata": {},
   "outputs": [
    {
     "data": {
      "text/plain": [
       "'football-players-detection-1/football-players-detection-1/valid'"
      ]
     },
     "execution_count": 4,
     "metadata": {},
     "output_type": "execute_result"
    }
   ],
   "source": [
    "import shutil\n",
    "\n",
    "shutil.move('football-players-detection-1/train',\n",
    "            'football-players-detection-1/football-players-detection-1/train'\n",
    "            )\n",
    "\n",
    "shutil.move('football-players-detection-1/test',\n",
    "            'football-players-detection-1/football-players-detection-1/test'\n",
    "            )\n",
    "\n",
    "shutil.move('football-players-detection-1/valid',\n",
    "            'football-players-detection-1/football-players-detection-1/valid'\n",
    "            )"
   ]
  },
  {
   "cell_type": "code",
   "execution_count": null,
   "metadata": {},
   "outputs": [],
   "source": []
  },
  {
   "cell_type": "code",
   "execution_count": null,
   "metadata": {},
   "outputs": [],
   "source": []
  },
  {
   "cell_type": "markdown",
   "metadata": {},
   "source": [
    "# Training"
   ]
  },
  {
   "cell_type": "code",
   "execution_count": null,
   "metadata": {},
   "outputs": [],
   "source": [
    "!yolo task=detect mode=train model=yolov5x.pt data={dataset.location}/data.yaml epochs=100 imgsz=640"
   ]
  },
  {
   "cell_type": "code",
   "execution_count": null,
   "metadata": {},
   "outputs": [],
   "source": []
  },
  {
   "cell_type": "code",
   "execution_count": null,
   "metadata": {},
   "outputs": [],
   "source": []
  }
 ],
 "metadata": {
  "kernelspec": {
   "display_name": "venv",
   "language": "python",
   "name": "python3"
  },
  "language_info": {
   "codemirror_mode": {
    "name": "ipython",
    "version": 3
   },
   "file_extension": ".py",
   "mimetype": "text/x-python",
   "name": "python",
   "nbconvert_exporter": "python",
   "pygments_lexer": "ipython3",
   "version": "3.13.1"
  }
 },
 "nbformat": 4,
 "nbformat_minor": 2
}
